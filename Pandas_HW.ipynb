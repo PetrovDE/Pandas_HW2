{
 "cells": [
  {
   "cell_type": "markdown",
   "id": "ce2e0c46",
   "metadata": {},
   "source": [
    "Есть данные по прохождению студентами тестов на образовательной платформе.\n",
    "Необходимо проанализировать как можно больше характеристик, влияющих на успеваемость студентов."
   ]
  },
  {
   "cell_type": "markdown",
   "id": "7fa90ab1",
   "metadata": {},
   "source": [
    "Имеются 3 файла с данными: train.csv - хранятся данные о действиях студента (размер более 5GB), question.csv - содержит данные о заданиях/вопросах, lecture.csv - содержит данные о обучающих материалах для студенов."
   ]
  },
  {
   "cell_type": "markdown",
   "id": "7af1ca9f",
   "metadata": {},
   "source": [
    "Импортируем необходимые библиотеки"
   ]
  },
  {
   "cell_type": "code",
   "execution_count": 1,
   "id": "96d994e9",
   "metadata": {},
   "outputs": [],
   "source": [
    "import pandas as pd\n",
    "import numpy as np\n",
    "import matplotlib as mpl\n",
    "import matplotlib.pyplot as plt\n",
    "import seaborn as sns\n",
    "\n",
    "%matplotlib inline"
   ]
  },
  {
   "cell_type": "markdown",
   "id": "503ff3d4",
   "metadata": {},
   "source": [
    "Создадим датафреймы для всех фалов"
   ]
  },
  {
   "cell_type": "code",
   "execution_count": 2,
   "id": "80aa9f58",
   "metadata": {},
   "outputs": [],
   "source": [
    "lecture_df = pd.read_csv('data/lectures.csv')\n",
    "question_df = pd.read_csv('data/questions.csv')"
   ]
  },
  {
   "cell_type": "code",
   "execution_count": 3,
   "id": "6c9257de",
   "metadata": {},
   "outputs": [],
   "source": [
    "train_df = pd.read_csv('data/train.csv',\n",
    "                      dtype={\n",
    "                          'row_id': 'int32',\n",
    "                          'timestamp': 'int64',\n",
    "                          'user_id': 'int32',\n",
    "                          'content_id': 'int32',\n",
    "                          'content_type_id': 'int8',\n",
    "                          'task_container_id': 'int16',\n",
    "                          'user_answer': 'int8',\n",
    "                          'answered_correctly': 'int8',\n",
    "                          'prior_question_elapsed_time': 'float64',\n",
    "                          'prior_question_had_explanation': 'boolean'\n",
    "                      })"
   ]
  },
  {
   "cell_type": "markdown",
   "id": "a0774358",
   "metadata": {},
   "source": [
    "Исследуем самы обширный фрейм"
   ]
  },
  {
   "cell_type": "markdown",
   "id": "9703eeb2",
   "metadata": {},
   "source": [
    "train_df.info()\n",
    "\n",
    "<class 'pandas.core.frame.DataFrame'>\n",
    "RangeIndex: 101230332 entries, 0 to 101230331\n",
    "Data columns (total 10 columns):\n",
    " #   Column                          Dtype  \n",
    "---  ------                          -----  \n",
    " 0   row_id                          int32  \n",
    " 1   timestamp                       int64  \n",
    " 2   user_id                         int64  \n",
    " 3   content_id                      int64  \n",
    " 4   content_type_id                 int64  \n",
    " 5   task_container_id               int64  \n",
    " 6   user_answer                     int64  \n",
    " 7   answered_correctly              int64  \n",
    " 8   prior_question_elapsed_time     float64\n",
    " 9   prior_question_had_explanation  object \n",
    "dtypes: float64(1), int32(1), int64(7), object(1)\n",
    "memory usage: 7.2+ GB"
   ]
  },
  {
   "cell_type": "code",
   "execution_count": 25,
   "id": "282c8b8c",
   "metadata": {},
   "outputs": [
    {
     "name": "stdout",
     "output_type": "stream",
     "text": [
      "<class 'pandas.core.frame.DataFrame'>\n",
      "RangeIndex: 101230332 entries, 0 to 101230331\n",
      "Data columns (total 10 columns):\n",
      " #   Column                          Dtype  \n",
      "---  ------                          -----  \n",
      " 0   row_id                          int32  \n",
      " 1   timestamp                       int64  \n",
      " 2   user_id                         int32  \n",
      " 3   content_id                      int32  \n",
      " 4   content_type_id                 int8   \n",
      " 5   task_container_id               int16  \n",
      " 6   user_answer                     int8   \n",
      " 7   answered_correctly              int8   \n",
      " 8   prior_question_elapsed_time     float64\n",
      " 9   prior_question_had_explanation  boolean\n",
      "dtypes: boolean(1), float64(1), int16(1), int32(3), int64(1), int8(3)\n",
      "memory usage: 3.3 GB\n"
     ]
    }
   ],
   "source": [
    "#посмотрим общую информацию после преобразования типов при загрузке\n",
    "train_df.info()"
   ]
  },
  {
   "cell_type": "markdown",
   "id": "f7f4ce1b",
   "metadata": {},
   "source": [
    "1. Обратим внимание на типы данных и проверим, можем ли мы изменить их и сокартить объем файла? Сейчас фрейм по памяти занимет более 7.5GB.\n",
    "2. После преобразования типов при загрузке удалось снизить размер почти в 2 раза до 3.3 GB"
   ]
  },
  {
   "cell_type": "code",
   "execution_count": 9,
   "id": "8feb513b",
   "metadata": {},
   "outputs": [
    {
     "data": {
      "text/html": [
       "<div>\n",
       "<style scoped>\n",
       "    .dataframe tbody tr th:only-of-type {\n",
       "        vertical-align: middle;\n",
       "    }\n",
       "\n",
       "    .dataframe tbody tr th {\n",
       "        vertical-align: top;\n",
       "    }\n",
       "\n",
       "    .dataframe thead th {\n",
       "        text-align: right;\n",
       "    }\n",
       "</style>\n",
       "<table border=\"1\" class=\"dataframe\">\n",
       "  <thead>\n",
       "    <tr style=\"text-align: right;\">\n",
       "      <th></th>\n",
       "      <th>row_id</th>\n",
       "      <th>timestamp</th>\n",
       "      <th>user_id</th>\n",
       "      <th>content_id</th>\n",
       "      <th>content_type_id</th>\n",
       "      <th>task_container_id</th>\n",
       "      <th>user_answer</th>\n",
       "      <th>answered_correctly</th>\n",
       "      <th>prior_question_elapsed_time</th>\n",
       "    </tr>\n",
       "  </thead>\n",
       "  <tbody>\n",
       "    <tr>\n",
       "      <th>count</th>\n",
       "      <td>1.012303e+08</td>\n",
       "      <td>1.012303e+08</td>\n",
       "      <td>1.012303e+08</td>\n",
       "      <td>1.012303e+08</td>\n",
       "      <td>1.012303e+08</td>\n",
       "      <td>1.012303e+08</td>\n",
       "      <td>1.012303e+08</td>\n",
       "      <td>1.012303e+08</td>\n",
       "      <td>9.887879e+07</td>\n",
       "    </tr>\n",
       "    <tr>\n",
       "      <th>mean</th>\n",
       "      <td>5.061517e+07</td>\n",
       "      <td>7.703644e+09</td>\n",
       "      <td>1.076732e+09</td>\n",
       "      <td>5.219605e+03</td>\n",
       "      <td>1.935222e-02</td>\n",
       "      <td>9.040624e+02</td>\n",
       "      <td>1.376123e+00</td>\n",
       "      <td>6.251644e-01</td>\n",
       "      <td>2.542381e+04</td>\n",
       "    </tr>\n",
       "    <tr>\n",
       "      <th>std</th>\n",
       "      <td>2.922268e+07</td>\n",
       "      <td>1.159266e+10</td>\n",
       "      <td>6.197163e+08</td>\n",
       "      <td>3.866359e+03</td>\n",
       "      <td>1.377596e-01</td>\n",
       "      <td>1.358302e+03</td>\n",
       "      <td>1.192896e+00</td>\n",
       "      <td>5.225307e-01</td>\n",
       "      <td>1.994815e+04</td>\n",
       "    </tr>\n",
       "    <tr>\n",
       "      <th>min</th>\n",
       "      <td>0.000000e+00</td>\n",
       "      <td>0.000000e+00</td>\n",
       "      <td>1.150000e+02</td>\n",
       "      <td>0.000000e+00</td>\n",
       "      <td>0.000000e+00</td>\n",
       "      <td>0.000000e+00</td>\n",
       "      <td>-1.000000e+00</td>\n",
       "      <td>-1.000000e+00</td>\n",
       "      <td>0.000000e+00</td>\n",
       "    </tr>\n",
       "    <tr>\n",
       "      <th>25%</th>\n",
       "      <td>2.530758e+07</td>\n",
       "      <td>5.243436e+08</td>\n",
       "      <td>5.408116e+08</td>\n",
       "      <td>2.063000e+03</td>\n",
       "      <td>0.000000e+00</td>\n",
       "      <td>1.040000e+02</td>\n",
       "      <td>0.000000e+00</td>\n",
       "      <td>0.000000e+00</td>\n",
       "      <td>1.600000e+04</td>\n",
       "    </tr>\n",
       "    <tr>\n",
       "      <th>50%</th>\n",
       "      <td>5.061517e+07</td>\n",
       "      <td>2.674234e+09</td>\n",
       "      <td>1.071781e+09</td>\n",
       "      <td>5.026000e+03</td>\n",
       "      <td>0.000000e+00</td>\n",
       "      <td>3.820000e+02</td>\n",
       "      <td>1.000000e+00</td>\n",
       "      <td>1.000000e+00</td>\n",
       "      <td>2.100000e+04</td>\n",
       "    </tr>\n",
       "    <tr>\n",
       "      <th>75%</th>\n",
       "      <td>7.592275e+07</td>\n",
       "      <td>9.924551e+09</td>\n",
       "      <td>1.615742e+09</td>\n",
       "      <td>7.425000e+03</td>\n",
       "      <td>0.000000e+00</td>\n",
       "      <td>1.094000e+03</td>\n",
       "      <td>3.000000e+00</td>\n",
       "      <td>1.000000e+00</td>\n",
       "      <td>2.966600e+04</td>\n",
       "    </tr>\n",
       "    <tr>\n",
       "      <th>max</th>\n",
       "      <td>1.012303e+08</td>\n",
       "      <td>8.742577e+10</td>\n",
       "      <td>2.147483e+09</td>\n",
       "      <td>3.273600e+04</td>\n",
       "      <td>1.000000e+00</td>\n",
       "      <td>9.999000e+03</td>\n",
       "      <td>3.000000e+00</td>\n",
       "      <td>1.000000e+00</td>\n",
       "      <td>3.000000e+05</td>\n",
       "    </tr>\n",
       "  </tbody>\n",
       "</table>\n",
       "</div>"
      ],
      "text/plain": [
       "             row_id     timestamp       user_id    content_id  \\\n",
       "count  1.012303e+08  1.012303e+08  1.012303e+08  1.012303e+08   \n",
       "mean   5.061517e+07  7.703644e+09  1.076732e+09  5.219605e+03   \n",
       "std    2.922268e+07  1.159266e+10  6.197163e+08  3.866359e+03   \n",
       "min    0.000000e+00  0.000000e+00  1.150000e+02  0.000000e+00   \n",
       "25%    2.530758e+07  5.243436e+08  5.408116e+08  2.063000e+03   \n",
       "50%    5.061517e+07  2.674234e+09  1.071781e+09  5.026000e+03   \n",
       "75%    7.592275e+07  9.924551e+09  1.615742e+09  7.425000e+03   \n",
       "max    1.012303e+08  8.742577e+10  2.147483e+09  3.273600e+04   \n",
       "\n",
       "       content_type_id  task_container_id   user_answer  answered_correctly  \\\n",
       "count     1.012303e+08       1.012303e+08  1.012303e+08        1.012303e+08   \n",
       "mean      1.935222e-02       9.040624e+02  1.376123e+00        6.251644e-01   \n",
       "std       1.377596e-01       1.358302e+03  1.192896e+00        5.225307e-01   \n",
       "min       0.000000e+00       0.000000e+00 -1.000000e+00       -1.000000e+00   \n",
       "25%       0.000000e+00       1.040000e+02  0.000000e+00        0.000000e+00   \n",
       "50%       0.000000e+00       3.820000e+02  1.000000e+00        1.000000e+00   \n",
       "75%       0.000000e+00       1.094000e+03  3.000000e+00        1.000000e+00   \n",
       "max       1.000000e+00       9.999000e+03  3.000000e+00        1.000000e+00   \n",
       "\n",
       "       prior_question_elapsed_time  \n",
       "count                 9.887879e+07  \n",
       "mean                  2.542381e+04  \n",
       "std                   1.994815e+04  \n",
       "min                   0.000000e+00  \n",
       "25%                   1.600000e+04  \n",
       "50%                   2.100000e+04  \n",
       "75%                   2.966600e+04  \n",
       "max                   3.000000e+05  "
      ]
     },
     "execution_count": 9,
     "metadata": {},
     "output_type": "execute_result"
    }
   ],
   "source": [
    "train_df.describe()"
   ]
  },
  {
   "cell_type": "markdown",
   "id": "94110ffd",
   "metadata": {},
   "source": [
    "Видно, что есть столбцы с избыточными типамии данных, рассмотрим сколько по памяти они занимают и будем пытаться преобразовать типы. В дальнейшем мы перезагрузим сам датафрейм с переопределением типов для сокращения затрат по ресурам и времени на работу с данными"
   ]
  },
  {
   "cell_type": "code",
   "execution_count": 26,
   "id": "f44933c2",
   "metadata": {
    "scrolled": true
   },
   "outputs": [
    {
     "data": {
      "text/plain": [
       "Index                                   128\n",
       "row_id                            404921328\n",
       "timestamp                         809842656\n",
       "user_id                           404921328\n",
       "content_id                        404921328\n",
       "content_type_id                   101230332\n",
       "task_container_id                 202460664\n",
       "user_answer                       101230332\n",
       "answered_correctly                101230332\n",
       "prior_question_elapsed_time       809842656\n",
       "prior_question_had_explanation    202460664\n",
       "dtype: int64"
      ]
     },
     "execution_count": 26,
     "metadata": {},
     "output_type": "execute_result"
    }
   ],
   "source": [
    "#данные по использованию памяти после изменения типов\n",
    "train_df.memory_usage(deep=True)"
   ]
  },
  {
   "cell_type": "markdown",
   "id": "c5a1a9a9",
   "metadata": {},
   "source": [
    "Сохраним данные по использованию памяти до изменения типов:\n",
    "\n",
    "* Index                                    128\n",
    "* row_id                             809842656\n",
    "* timestamp                          809842656\n",
    "* user_id                            809842656\n",
    "* content_id                         809842656\n",
    "* content_type_id                    809842656\n",
    "* task_container_id                  809842656\n",
    "* user_answer                        809842656\n",
    "* answered_correctly                 809842656\n",
    "* prior_question_elapsed_time        809842656\n",
    "* prior_question_had_explanation    3598112864\n",
    "* dtype: int64"
   ]
  },
  {
   "cell_type": "markdown",
   "id": "450530e1",
   "metadata": {},
   "source": [
    "###### Диапазоны для типов данных:  \n",
    "* int8 - (-128, 127)\n",
    "* int16 - (-32 768, 32 767) e+04\n",
    "* int32 - (-2 147 483 648, 2 147 483 647) e+09\n",
    "* int64 - (-9 223 372 036 854 775 808, 9 223 372 036 854 775 807) e+18\n",
    "\n",
    "###### Используем описание полей и максимальное значение:  \n",
    "* row_id - int32\n",
    "* timestamp - int64 (без изменений)\n",
    "* user_id - int32\n",
    "* content_id - int32\n",
    "* content_type_id - bool/int8\n",
    "* task_container_id - int16\n",
    "* user_answer - int8\n",
    "* answered_correctly - int8\n",
    "* prior_question_elapsed_time - float64\n",
    "* prior_question_had_explanation - boolean"
   ]
  },
  {
   "cell_type": "markdown",
   "id": "2017cf43",
   "metadata": {},
   "source": [
    "Изменим типы при загрузке данных во фрейм через dtype={}"
   ]
  },
  {
   "cell_type": "markdown",
   "id": "aa5ce5be",
   "metadata": {},
   "source": [
    "#### Начниаем исследовать данные"
   ]
  },
  {
   "cell_type": "code",
   "execution_count": 37,
   "id": "c8fb7497",
   "metadata": {
    "scrolled": true
   },
   "outputs": [
    {
     "data": {
      "text/html": [
       "<div>\n",
       "<style scoped>\n",
       "    .dataframe tbody tr th:only-of-type {\n",
       "        vertical-align: middle;\n",
       "    }\n",
       "\n",
       "    .dataframe tbody tr th {\n",
       "        vertical-align: top;\n",
       "    }\n",
       "\n",
       "    .dataframe thead th {\n",
       "        text-align: right;\n",
       "    }\n",
       "</style>\n",
       "<table border=\"1\" class=\"dataframe\">\n",
       "  <thead>\n",
       "    <tr style=\"text-align: right;\">\n",
       "      <th></th>\n",
       "      <th>row_id</th>\n",
       "      <th>timestamp</th>\n",
       "      <th>user_id</th>\n",
       "      <th>content_id</th>\n",
       "      <th>content_type_id</th>\n",
       "      <th>task_container_id</th>\n",
       "      <th>user_answer</th>\n",
       "      <th>answered_correctly</th>\n",
       "      <th>prior_question_elapsed_time</th>\n",
       "      <th>prior_question_had_explanation</th>\n",
       "    </tr>\n",
       "  </thead>\n",
       "  <tbody>\n",
       "    <tr>\n",
       "      <th>0</th>\n",
       "      <td>0</td>\n",
       "      <td>0</td>\n",
       "      <td>115</td>\n",
       "      <td>5692</td>\n",
       "      <td>0</td>\n",
       "      <td>1</td>\n",
       "      <td>3</td>\n",
       "      <td>1</td>\n",
       "      <td>NaN</td>\n",
       "      <td>&lt;NA&gt;</td>\n",
       "    </tr>\n",
       "    <tr>\n",
       "      <th>1</th>\n",
       "      <td>1</td>\n",
       "      <td>56943</td>\n",
       "      <td>115</td>\n",
       "      <td>5716</td>\n",
       "      <td>0</td>\n",
       "      <td>2</td>\n",
       "      <td>2</td>\n",
       "      <td>1</td>\n",
       "      <td>37000.0</td>\n",
       "      <td>False</td>\n",
       "    </tr>\n",
       "    <tr>\n",
       "      <th>2</th>\n",
       "      <td>2</td>\n",
       "      <td>118363</td>\n",
       "      <td>115</td>\n",
       "      <td>128</td>\n",
       "      <td>0</td>\n",
       "      <td>0</td>\n",
       "      <td>0</td>\n",
       "      <td>1</td>\n",
       "      <td>55000.0</td>\n",
       "      <td>False</td>\n",
       "    </tr>\n",
       "    <tr>\n",
       "      <th>3</th>\n",
       "      <td>3</td>\n",
       "      <td>131167</td>\n",
       "      <td>115</td>\n",
       "      <td>7860</td>\n",
       "      <td>0</td>\n",
       "      <td>3</td>\n",
       "      <td>0</td>\n",
       "      <td>1</td>\n",
       "      <td>19000.0</td>\n",
       "      <td>False</td>\n",
       "    </tr>\n",
       "    <tr>\n",
       "      <th>4</th>\n",
       "      <td>4</td>\n",
       "      <td>137965</td>\n",
       "      <td>115</td>\n",
       "      <td>7922</td>\n",
       "      <td>0</td>\n",
       "      <td>4</td>\n",
       "      <td>1</td>\n",
       "      <td>1</td>\n",
       "      <td>11000.0</td>\n",
       "      <td>False</td>\n",
       "    </tr>\n",
       "  </tbody>\n",
       "</table>\n",
       "</div>"
      ],
      "text/plain": [
       "   row_id  timestamp  user_id  content_id  content_type_id  task_container_id  \\\n",
       "0       0          0      115        5692                0                  1   \n",
       "1       1      56943      115        5716                0                  2   \n",
       "2       2     118363      115         128                0                  0   \n",
       "3       3     131167      115        7860                0                  3   \n",
       "4       4     137965      115        7922                0                  4   \n",
       "\n",
       "   user_answer  answered_correctly  prior_question_elapsed_time  \\\n",
       "0            3                   1                          NaN   \n",
       "1            2                   1                      37000.0   \n",
       "2            0                   1                      55000.0   \n",
       "3            0                   1                      19000.0   \n",
       "4            1                   1                      11000.0   \n",
       "\n",
       "   prior_question_had_explanation  \n",
       "0                            <NA>  \n",
       "1                           False  \n",
       "2                           False  \n",
       "3                           False  \n",
       "4                           False  "
      ]
     },
     "execution_count": 37,
     "metadata": {},
     "output_type": "execute_result"
    }
   ],
   "source": [
    "train_df.head()"
   ]
  },
  {
   "cell_type": "markdown",
   "id": "ca980e1a",
   "metadata": {},
   "source": [
    "Проверим количество уникальных пользователей во фрейме"
   ]
  },
  {
   "cell_type": "code",
   "execution_count": 20,
   "id": "c27a0282",
   "metadata": {},
   "outputs": [
    {
     "data": {
      "text/plain": [
       "393656"
      ]
     },
     "execution_count": 20,
     "metadata": {},
     "output_type": "execute_result"
    }
   ],
   "source": [
    "train_df['user_id'].nunique()"
   ]
  },
  {
   "cell_type": "markdown",
   "id": "d2460920",
   "metadata": {},
   "source": [
    "Проверим соотношение просмотров лекций к заданным воросам, 0 - вопрос, 1 - лекция"
   ]
  },
  {
   "cell_type": "code",
   "execution_count": 28,
   "id": "6fbb2cd6",
   "metadata": {
    "scrolled": true
   },
   "outputs": [
    {
     "data": {
      "text/plain": [
       "0    99271300\n",
       "1     1959032\n",
       "Name: content_type_id, dtype: int64"
      ]
     },
     "execution_count": 28,
     "metadata": {},
     "output_type": "execute_result"
    }
   ],
   "source": [
    "train_df['content_type_id'].value_counts()"
   ]
  },
  {
   "cell_type": "markdown",
   "id": "64f822f3",
   "metadata": {},
   "source": [
    "Целевое значение для нас это верный ответ answered_correctly, посмотри что с ним"
   ]
  },
  {
   "cell_type": "code",
   "execution_count": 23,
   "id": "8067734a",
   "metadata": {},
   "outputs": [
    {
     "data": {
      "text/plain": [
       " 1    65244627\n",
       " 0    34026673\n",
       "-1     1959032\n",
       "Name: answered_correctly, dtype: int64"
      ]
     },
     "execution_count": 23,
     "metadata": {},
     "output_type": "execute_result"
    }
   ],
   "source": [
    "train_df['answered_correctly'].value_counts()"
   ]
  },
  {
   "cell_type": "markdown",
   "id": "8a55c6e6",
   "metadata": {},
   "source": [
    "-1 это просмотр лекций, этот показатель мы не учитываем.  \n",
    "итого почти 34% не правильных ответов"
   ]
  },
  {
   "cell_type": "code",
   "execution_count": 44,
   "id": "537c07a1",
   "metadata": {},
   "outputs": [
    {
     "data": {
      "text/plain": [
       "6116     213605\n",
       "6173     202106\n",
       "4120     199372\n",
       "175      195861\n",
       "7876     190170\n",
       "          ...  \n",
       "5823          1\n",
       "10008         1\n",
       "10007         1\n",
       "10006         1\n",
       "10005         1\n",
       "Name: content_id, Length: 13523, dtype: int64"
      ]
     },
     "execution_count": 44,
     "metadata": {},
     "output_type": "execute_result"
    }
   ],
   "source": [
    "#посмотрим частоту наиболее используемых пакетов вопросов content_id\n",
    "train_df[train_df['content_type_id'] == 0]['content_id'].value_counts()"
   ]
  },
  {
   "cell_type": "code",
   "execution_count": 7,
   "id": "56bda318",
   "metadata": {},
   "outputs": [
    {
     "data": {
      "image/png": "[encoded data removed]",
      "text/plain": [
       "<Figure size 864x432 with 1 Axes>"
      ]
     },
     "metadata": {
      "needs_background": "light"
     },
     "output_type": "display_data"
    }
   ],
   "source": [
    "#посмотрим частоту распределения времени timestamp\n",
    "times = train_df['timestamp'] / 360000\n",
    "fig = plt.figure(figsize=(12,6))\n",
    "times.plot.hist(bins=50)\n",
    "plt.title(\"Гистограмма времени\")\n",
    "plt.xticks(rotation=0)\n",
    "plt.xlabel(\"Время в часах по студентам\")\n",
    "plt.show()"
   ]
  },
  {
   "cell_type": "code",
   "execution_count": 8,
   "id": "aba6f783",
   "metadata": {},
   "outputs": [
    {
     "data": {
      "image/png": "[encoded data removed]",
      "text/plain": [
       "<Figure size 864x432 with 1 Axes>"
      ]
     },
     "metadata": {
      "needs_background": "light"
     },
     "output_type": "display_data"
    }
   ],
   "source": [
    "#посмотрим частоту распределения времени решения\n",
    "times = train_df['prior_question_elapsed_time'] / 60000\n",
    "fig = plt.figure(figsize=(12,6))\n",
    "times.plot.hist()\n",
    "plt.title(\"Гистограмма времени\")\n",
    "plt.xticks(rotation=0)\n",
    "plt.xlabel(\"Время в минутах по студентам\")\n",
    "plt.show()"
   ]
  },
  {
   "cell_type": "markdown",
   "id": "6dabdf58",
   "metadata": {},
   "source": [
    "Видно, что в основномо решение блока занимает не более 1 минуты"
   ]
  },
  {
   "cell_type": "markdown",
   "id": "7874cabb",
   "metadata": {},
   "source": [
    "### Посмотрим на данные в question_df"
   ]
  },
  {
   "cell_type": "code",
   "execution_count": 10,
   "id": "f5236aed",
   "metadata": {},
   "outputs": [
    {
     "data": {
      "text/html": [
       "<div>\n",
       "<style scoped>\n",
       "    .dataframe tbody tr th:only-of-type {\n",
       "        vertical-align: middle;\n",
       "    }\n",
       "\n",
       "    .dataframe tbody tr th {\n",
       "        vertical-align: top;\n",
       "    }\n",
       "\n",
       "    .dataframe thead th {\n",
       "        text-align: right;\n",
       "    }\n",
       "</style>\n",
       "<table border=\"1\" class=\"dataframe\">\n",
       "  <thead>\n",
       "    <tr style=\"text-align: right;\">\n",
       "      <th></th>\n",
       "      <th>question_id</th>\n",
       "      <th>bundle_id</th>\n",
       "      <th>correct_answer</th>\n",
       "      <th>part</th>\n",
       "      <th>tags</th>\n",
       "    </tr>\n",
       "  </thead>\n",
       "  <tbody>\n",
       "    <tr>\n",
       "      <th>0</th>\n",
       "      <td>0</td>\n",
       "      <td>0</td>\n",
       "      <td>0</td>\n",
       "      <td>1</td>\n",
       "      <td>51 131 162 38</td>\n",
       "    </tr>\n",
       "    <tr>\n",
       "      <th>1</th>\n",
       "      <td>1</td>\n",
       "      <td>1</td>\n",
       "      <td>1</td>\n",
       "      <td>1</td>\n",
       "      <td>131 36 81</td>\n",
       "    </tr>\n",
       "    <tr>\n",
       "      <th>2</th>\n",
       "      <td>2</td>\n",
       "      <td>2</td>\n",
       "      <td>0</td>\n",
       "      <td>1</td>\n",
       "      <td>131 101 162 92</td>\n",
       "    </tr>\n",
       "    <tr>\n",
       "      <th>3</th>\n",
       "      <td>3</td>\n",
       "      <td>3</td>\n",
       "      <td>0</td>\n",
       "      <td>1</td>\n",
       "      <td>131 149 162 29</td>\n",
       "    </tr>\n",
       "    <tr>\n",
       "      <th>4</th>\n",
       "      <td>4</td>\n",
       "      <td>4</td>\n",
       "      <td>3</td>\n",
       "      <td>1</td>\n",
       "      <td>131 5 162 38</td>\n",
       "    </tr>\n",
       "  </tbody>\n",
       "</table>\n",
       "</div>"
      ],
      "text/plain": [
       "   question_id  bundle_id  correct_answer  part            tags\n",
       "0            0          0               0     1   51 131 162 38\n",
       "1            1          1               1     1       131 36 81\n",
       "2            2          2               0     1  131 101 162 92\n",
       "3            3          3               0     1  131 149 162 29\n",
       "4            4          4               3     1    131 5 162 38"
      ]
     },
     "execution_count": 10,
     "metadata": {},
     "output_type": "execute_result"
    }
   ],
   "source": [
    "question_df.head()"
   ]
  },
  {
   "cell_type": "markdown",
   "id": "8101b29a",
   "metadata": {},
   "source": [
    "Посмотрим на данные в целом, есть ИД самого вопроса, есть ИД бандла, верный ответ для вопроса, к какой части теста относятся вопросы и набор тэгов для вопросов в бандле."
   ]
  },
  {
   "cell_type": "markdown",
   "id": "00a73a11",
   "metadata": {},
   "source": [
    "Посмотрим, сколько есть уникальнх частей для наборов вопросов"
   ]
  },
  {
   "cell_type": "code",
   "execution_count": 11,
   "id": "e8cdcc65",
   "metadata": {},
   "outputs": [
    {
     "data": {
      "text/plain": [
       "5    5511\n",
       "2    1647\n",
       "3    1562\n",
       "4    1439\n",
       "6    1212\n",
       "7    1160\n",
       "1     992\n",
       "Name: part, dtype: int64"
      ]
     },
     "execution_count": 11,
     "metadata": {},
     "output_type": "execute_result"
    }
   ],
   "source": [
    "question_df['part'].value_counts()"
   ]
  },
  {
   "cell_type": "markdown",
   "id": "ad084578",
   "metadata": {},
   "source": [
    "Преобразуем список тэгов в лист и проанализируем данные"
   ]
  },
  {
   "cell_type": "code",
   "execution_count": 22,
   "id": "4db86c48",
   "metadata": {},
   "outputs": [],
   "source": [
    "question_df['tags'] = question_df['tags'].astype('str')\n",
    "question_df['tags_list'] = [x.split() for x in question_df['tags'].values]"
   ]
  },
  {
   "cell_type": "code",
   "execution_count": 95,
   "id": "c4ad3b59",
   "metadata": {},
   "outputs": [
    {
     "data": {
      "text/plain": [
       "189"
      ]
     },
     "metadata": {},
     "output_type": "display_data"
    }
   ],
   "source": [
    "#проверим сколько всего уникальных тэгов есть (присутствует тэг nan - значит есть бандл без тэгов)\n",
    "tag_set = {y for x in question_df['tags_list'] for y in x}\n",
    "display(len(tag_set))"
   ]
  },
  {
   "cell_type": "code",
   "execution_count": 72,
   "id": "2e6e16b8",
   "metadata": {},
   "outputs": [],
   "source": [
    "#посчитаем количесвто тегов для всех бандлов\n",
    "question_df['tags_len'] = [len(x) for x in question_df['tags_list']]"
   ]
  },
  {
   "cell_type": "code",
   "execution_count": 86,
   "id": "c71be319",
   "metadata": {},
   "outputs": [
    {
     "data": {
      "text/plain": [
       "<AxesSubplot:xlabel='tags_len', ylabel='Count'>"
      ]
     },
     "execution_count": 86,
     "metadata": {},
     "output_type": "execute_result"
    },
    {
     "data": {
      "image/png": "[encoded data removed]",
      "text/plain": [
       "<Figure size 432x288 with 1 Axes>"
      ]
     },
     "metadata": {
      "needs_background": "light"
     },
     "output_type": "display_data"
    }
   ],
   "source": [
    "#посмотрим график распределения количества тэгов от части вопроса\n",
    "sns.histplot(data=question_df, x=\"tags_len\", binwidth=1, hue=\"part\", palette=\"rocket\")"
   ]
  },
  {
   "cell_type": "markdown",
   "id": "70d2be99",
   "metadata": {},
   "source": [
    "### Посмотрим мету по лекциям"
   ]
  },
  {
   "cell_type": "code",
   "execution_count": 87,
   "id": "07415cdf",
   "metadata": {},
   "outputs": [
    {
     "data": {
      "text/html": [
       "<div>\n",
       "<style scoped>\n",
       "    .dataframe tbody tr th:only-of-type {\n",
       "        vertical-align: middle;\n",
       "    }\n",
       "\n",
       "    .dataframe tbody tr th {\n",
       "        vertical-align: top;\n",
       "    }\n",
       "\n",
       "    .dataframe thead th {\n",
       "        text-align: right;\n",
       "    }\n",
       "</style>\n",
       "<table border=\"1\" class=\"dataframe\">\n",
       "  <thead>\n",
       "    <tr style=\"text-align: right;\">\n",
       "      <th></th>\n",
       "      <th>lecture_id</th>\n",
       "      <th>tag</th>\n",
       "      <th>part</th>\n",
       "      <th>type_of</th>\n",
       "    </tr>\n",
       "  </thead>\n",
       "  <tbody>\n",
       "    <tr>\n",
       "      <th>0</th>\n",
       "      <td>89</td>\n",
       "      <td>159</td>\n",
       "      <td>5</td>\n",
       "      <td>concept</td>\n",
       "    </tr>\n",
       "    <tr>\n",
       "      <th>1</th>\n",
       "      <td>100</td>\n",
       "      <td>70</td>\n",
       "      <td>1</td>\n",
       "      <td>concept</td>\n",
       "    </tr>\n",
       "    <tr>\n",
       "      <th>2</th>\n",
       "      <td>185</td>\n",
       "      <td>45</td>\n",
       "      <td>6</td>\n",
       "      <td>concept</td>\n",
       "    </tr>\n",
       "    <tr>\n",
       "      <th>3</th>\n",
       "      <td>192</td>\n",
       "      <td>79</td>\n",
       "      <td>5</td>\n",
       "      <td>solving question</td>\n",
       "    </tr>\n",
       "    <tr>\n",
       "      <th>4</th>\n",
       "      <td>317</td>\n",
       "      <td>156</td>\n",
       "      <td>5</td>\n",
       "      <td>solving question</td>\n",
       "    </tr>\n",
       "  </tbody>\n",
       "</table>\n",
       "</div>"
      ],
      "text/plain": [
       "   lecture_id  tag  part           type_of\n",
       "0          89  159     5           concept\n",
       "1         100   70     1           concept\n",
       "2         185   45     6           concept\n",
       "3         192   79     5  solving question\n",
       "4         317  156     5  solving question"
      ]
     },
     "execution_count": 87,
     "metadata": {},
     "output_type": "execute_result"
    }
   ],
   "source": [
    "lecture_df.head()"
   ]
  },
  {
   "cell_type": "code",
   "execution_count": 90,
   "id": "c7f06ba4",
   "metadata": {},
   "outputs": [
    {
     "data": {
      "text/plain": [
       "418"
      ]
     },
     "execution_count": 90,
     "metadata": {},
     "output_type": "execute_result"
    }
   ],
   "source": [
    "#всего уникальных ид лекций\n",
    "lecture_df.shape[0]"
   ]
  },
  {
   "cell_type": "code",
   "execution_count": 91,
   "id": "0dac45b7",
   "metadata": {},
   "outputs": [
    {
     "data": {
      "text/plain": [
       "<AxesSubplot:xlabel='type_of', ylabel='Count'>"
      ]
     },
     "execution_count": 91,
     "metadata": {},
     "output_type": "execute_result"
    },
    {
     "data": {
      "image/png": "[encoded data removed]",
      "text/plain": [
       "<Figure size 432x288 with 1 Axes>"
      ]
     },
     "metadata": {
      "needs_background": "light"
     },
     "output_type": "display_data"
    }
   ],
   "source": [
    "#посмотрим расределение по типу лекций\n",
    "sns.histplot(data=lecture_df, x=\"type_of\")"
   ]
  }
 ],
 "metadata": {
  "kernelspec": {
   "display_name": "Python 3 (ipykernel)",
   "language": "python",
   "name": "python3"
  },
  "language_info": {
   "codemirror_mode": {
    "name": "ipython",
    "version": 3
   },
   "file_extension": ".py",
   "mimetype": "text/x-python",
   "name": "python",
   "nbconvert_exporter": "python",
   "pygments_lexer": "ipython3",
   "version": "3.9.7"
  }
 },
 "nbformat": 4,
 "nbformat_minor": 5
}
